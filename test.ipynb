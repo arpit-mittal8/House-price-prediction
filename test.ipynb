{
  "cells": [
    {
      "cell_type": "code",
      "execution_count": 1,
      "id": "ae9a0627",
      "metadata": {
        "id": "ae9a0627"
      },
      "outputs": [],
      "source": [
        "import pandas as pd\n",
        "import numpy as np"
      ]
    },
    {
      "cell_type": "code",
      "execution_count": 2,
      "id": "ff222bb1",
      "metadata": {
        "id": "ff222bb1"
      },
      "outputs": [],
      "source": [
        "data=pd.read_csv(\"/content/Bengaluru_House_Data.csv\")\n"
      ]
    },
    {
      "cell_type": "code",
      "execution_count": 3,
      "id": "527e7ef7",
      "metadata": {
        "colab": {
          "base_uri": "https://localhost:8080/",
          "height": 206
        },
        "id": "527e7ef7",
        "outputId": "6342588f-2d71-4935-a24a-959eb30ef7ed"
      },
      "outputs": [
        {
          "output_type": "execute_result",
          "data": {
            "text/html": [
              "<div>\n",
              "<style scoped>\n",
              "    .dataframe tbody tr th:only-of-type {\n",
              "        vertical-align: middle;\n",
              "    }\n",
              "\n",
              "    .dataframe tbody tr th {\n",
              "        vertical-align: top;\n",
              "    }\n",
              "\n",
              "    .dataframe thead th {\n",
              "        text-align: right;\n",
              "    }\n",
              "</style>\n",
              "<table border=\"1\" class=\"dataframe\">\n",
              "  <thead>\n",
              "    <tr style=\"text-align: right;\">\n",
              "      <th></th>\n",
              "      <th>area_type</th>\n",
              "      <th>availability</th>\n",
              "      <th>location</th>\n",
              "      <th>size</th>\n",
              "      <th>society</th>\n",
              "      <th>total_sqft</th>\n",
              "      <th>bath</th>\n",
              "      <th>balcony</th>\n",
              "      <th>price</th>\n",
              "    </tr>\n",
              "  </thead>\n",
              "  <tbody>\n",
              "    <tr>\n",
              "      <th>0</th>\n",
              "      <td>Super built-up  Area</td>\n",
              "      <td>19-Dec</td>\n",
              "      <td>Electronic City Phase II</td>\n",
              "      <td>2 BHK</td>\n",
              "      <td>Coomee</td>\n",
              "      <td>1056</td>\n",
              "      <td>2.0</td>\n",
              "      <td>1.0</td>\n",
              "      <td>39.07</td>\n",
              "    </tr>\n",
              "    <tr>\n",
              "      <th>1</th>\n",
              "      <td>Plot  Area</td>\n",
              "      <td>Ready To Move</td>\n",
              "      <td>Chikka Tirupathi</td>\n",
              "      <td>4 Bedroom</td>\n",
              "      <td>Theanmp</td>\n",
              "      <td>2600</td>\n",
              "      <td>5.0</td>\n",
              "      <td>3.0</td>\n",
              "      <td>120.00</td>\n",
              "    </tr>\n",
              "    <tr>\n",
              "      <th>2</th>\n",
              "      <td>Built-up  Area</td>\n",
              "      <td>Ready To Move</td>\n",
              "      <td>Uttarahalli</td>\n",
              "      <td>3 BHK</td>\n",
              "      <td>NaN</td>\n",
              "      <td>1440</td>\n",
              "      <td>2.0</td>\n",
              "      <td>3.0</td>\n",
              "      <td>62.00</td>\n",
              "    </tr>\n",
              "    <tr>\n",
              "      <th>3</th>\n",
              "      <td>Super built-up  Area</td>\n",
              "      <td>Ready To Move</td>\n",
              "      <td>Lingadheeranahalli</td>\n",
              "      <td>3 BHK</td>\n",
              "      <td>Soiewre</td>\n",
              "      <td>1521</td>\n",
              "      <td>3.0</td>\n",
              "      <td>1.0</td>\n",
              "      <td>95.00</td>\n",
              "    </tr>\n",
              "    <tr>\n",
              "      <th>4</th>\n",
              "      <td>Super built-up  Area</td>\n",
              "      <td>Ready To Move</td>\n",
              "      <td>Kothanur</td>\n",
              "      <td>2 BHK</td>\n",
              "      <td>NaN</td>\n",
              "      <td>1200</td>\n",
              "      <td>2.0</td>\n",
              "      <td>1.0</td>\n",
              "      <td>51.00</td>\n",
              "    </tr>\n",
              "  </tbody>\n",
              "</table>\n",
              "</div>"
            ],
            "text/plain": [
              "              area_type   availability  ... balcony   price\n",
              "0  Super built-up  Area         19-Dec  ...     1.0   39.07\n",
              "1            Plot  Area  Ready To Move  ...     3.0  120.00\n",
              "2        Built-up  Area  Ready To Move  ...     3.0   62.00\n",
              "3  Super built-up  Area  Ready To Move  ...     1.0   95.00\n",
              "4  Super built-up  Area  Ready To Move  ...     1.0   51.00\n",
              "\n",
              "[5 rows x 9 columns]"
            ]
          },
          "metadata": {},
          "execution_count": 3
        }
      ],
      "source": [
        "data.head()"
      ]
    },
    {
      "cell_type": "code",
      "execution_count": 4,
      "id": "8a614413",
      "metadata": {
        "colab": {
          "base_uri": "https://localhost:8080/"
        },
        "id": "8a614413",
        "outputId": "6687b15d-fdab-4083-9adf-4292ea86ff75"
      },
      "outputs": [
        {
          "output_type": "execute_result",
          "data": {
            "text/plain": [
              "(13320, 9)"
            ]
          },
          "metadata": {},
          "execution_count": 4
        }
      ],
      "source": [
        "data.shape"
      ]
    },
    {
      "cell_type": "code",
      "execution_count": 5,
      "id": "63f1e825",
      "metadata": {
        "colab": {
          "base_uri": "https://localhost:8080/"
        },
        "id": "63f1e825",
        "outputId": "9e9980f7-48e5-4589-e27f-73c851aa59e2"
      },
      "outputs": [
        {
          "output_type": "stream",
          "name": "stdout",
          "text": [
            "Super built-up  Area    8790\n",
            "Built-up  Area          2418\n",
            "Plot  Area              2025\n",
            "Carpet  Area              87\n",
            "Name: area_type, dtype: int64\n",
            "********************\n",
            "Ready To Move    10581\n",
            "18-Dec             307\n",
            "18-May             295\n",
            "18-Apr             271\n",
            "18-Aug             200\n",
            "                 ...  \n",
            "16-Oct               1\n",
            "17-Jan               1\n",
            "15-Dec               1\n",
            "15-Jun               1\n",
            "16-Jul               1\n",
            "Name: availability, Length: 81, dtype: int64\n",
            "********************\n",
            "Whitefield                               540\n",
            "Sarjapur  Road                           399\n",
            "Electronic City                          302\n",
            "Kanakpura Road                           273\n",
            "Thanisandra                              234\n",
            "                                        ... \n",
            "Behind Don Bosco Church                    1\n",
            "Milk Colony                                1\n",
            "Old Mangammanapalya Road                   1\n",
            "Jagadish Nagar                             1\n",
            "Indranagar  100ft road defence colony      1\n",
            "Name: location, Length: 1305, dtype: int64\n",
            "********************\n",
            "2 BHK         5199\n",
            "3 BHK         4310\n",
            "4 Bedroom      826\n",
            "4 BHK          591\n",
            "3 Bedroom      547\n",
            "1 BHK          538\n",
            "2 Bedroom      329\n",
            "5 Bedroom      297\n",
            "6 Bedroom      191\n",
            "1 Bedroom      105\n",
            "8 Bedroom       84\n",
            "7 Bedroom       83\n",
            "5 BHK           59\n",
            "9 Bedroom       46\n",
            "6 BHK           30\n",
            "7 BHK           17\n",
            "1 RK            13\n",
            "10 Bedroom      12\n",
            "9 BHK            8\n",
            "8 BHK            5\n",
            "10 BHK           2\n",
            "11 Bedroom       2\n",
            "11 BHK           2\n",
            "27 BHK           1\n",
            "13 BHK           1\n",
            "16 BHK           1\n",
            "18 Bedroom       1\n",
            "19 BHK           1\n",
            "12 Bedroom       1\n",
            "14 BHK           1\n",
            "43 Bedroom       1\n",
            "Name: size, dtype: int64\n",
            "********************\n",
            "GrrvaGr    80\n",
            "PrarePa    76\n",
            "Sryalan    59\n",
            "Prtates    59\n",
            "GMown E    56\n",
            "           ..\n",
            "Saalpas     1\n",
            "Villeka     1\n",
            "Sonyxa      1\n",
            "KBaleoy     1\n",
            "VDarmlo     1\n",
            "Name: society, Length: 2688, dtype: int64\n",
            "********************\n",
            "1200           843\n",
            "1100           221\n",
            "1500           205\n",
            "2400           196\n",
            "600            180\n",
            "              ... \n",
            "2319             1\n",
            "3484 - 3550      1\n",
            "2956             1\n",
            "3293 - 5314      1\n",
            "3950             1\n",
            "Name: total_sqft, Length: 2117, dtype: int64\n",
            "********************\n",
            "2.0     6908\n",
            "3.0     3286\n",
            "4.0     1226\n",
            "1.0      788\n",
            "5.0      524\n",
            "6.0      273\n",
            "7.0      102\n",
            "8.0       64\n",
            "9.0       43\n",
            "10.0      13\n",
            "12.0       7\n",
            "13.0       3\n",
            "11.0       3\n",
            "16.0       2\n",
            "27.0       1\n",
            "18.0       1\n",
            "40.0       1\n",
            "15.0       1\n",
            "14.0       1\n",
            "Name: bath, dtype: int64\n",
            "********************\n",
            "2.0    5113\n",
            "1.0    4897\n",
            "3.0    1672\n",
            "0.0    1029\n",
            "Name: balcony, dtype: int64\n",
            "********************\n",
            "75.00    310\n",
            "65.00    302\n",
            "55.00    275\n",
            "60.00    270\n",
            "45.00    240\n",
            "        ... \n",
            "81.55      1\n",
            "69.49      1\n",
            "42.18      1\n",
            "70.25      1\n",
            "74.82      1\n",
            "Name: price, Length: 1994, dtype: int64\n",
            "********************\n"
          ]
        }
      ],
      "source": [
        "for column in data.columns:\n",
        "    print(data[column].value_counts())\n",
        "    print(\"*\"*20)"
      ]
    },
    {
      "cell_type": "code",
      "execution_count": 6,
      "id": "b6a749b9",
      "metadata": {
        "colab": {
          "base_uri": "https://localhost:8080/"
        },
        "id": "b6a749b9",
        "outputId": "62fca23b-3c27-40c8-b77c-6c1fffd99521"
      },
      "outputs": [
        {
          "output_type": "execute_result",
          "data": {
            "text/plain": [
              "area_type          0\n",
              "availability       0\n",
              "location           1\n",
              "size              16\n",
              "society         5502\n",
              "total_sqft         0\n",
              "bath              73\n",
              "balcony          609\n",
              "price              0\n",
              "dtype: int64"
            ]
          },
          "metadata": {},
          "execution_count": 6
        }
      ],
      "source": [
        "data.isna().sum()"
      ]
    },
    {
      "cell_type": "markdown",
      "id": "5bc5a4c8",
      "metadata": {
        "id": "5bc5a4c8"
      },
      "source": [
        "## DATA PREPROCESSING"
      ]
    },
    {
      "cell_type": "code",
      "execution_count": 7,
      "id": "5233fc6c",
      "metadata": {
        "id": "5233fc6c"
      },
      "outputs": [],
      "source": [
        "data.drop(columns=['area_type','availability','society','balcony'],inplace=True)"
      ]
    },
    {
      "cell_type": "code",
      "execution_count": 8,
      "id": "bd5741f3",
      "metadata": {
        "colab": {
          "base_uri": "https://localhost:8080/",
          "height": 300
        },
        "id": "bd5741f3",
        "outputId": "a2d1270c-a24e-4312-9a9d-573e6a8defb3"
      },
      "outputs": [
        {
          "output_type": "execute_result",
          "data": {
            "text/html": [
              "<div>\n",
              "<style scoped>\n",
              "    .dataframe tbody tr th:only-of-type {\n",
              "        vertical-align: middle;\n",
              "    }\n",
              "\n",
              "    .dataframe tbody tr th {\n",
              "        vertical-align: top;\n",
              "    }\n",
              "\n",
              "    .dataframe thead th {\n",
              "        text-align: right;\n",
              "    }\n",
              "</style>\n",
              "<table border=\"1\" class=\"dataframe\">\n",
              "  <thead>\n",
              "    <tr style=\"text-align: right;\">\n",
              "      <th></th>\n",
              "      <th>bath</th>\n",
              "      <th>price</th>\n",
              "    </tr>\n",
              "  </thead>\n",
              "  <tbody>\n",
              "    <tr>\n",
              "      <th>count</th>\n",
              "      <td>13247.000000</td>\n",
              "      <td>13320.000000</td>\n",
              "    </tr>\n",
              "    <tr>\n",
              "      <th>mean</th>\n",
              "      <td>2.692610</td>\n",
              "      <td>112.565627</td>\n",
              "    </tr>\n",
              "    <tr>\n",
              "      <th>std</th>\n",
              "      <td>1.341458</td>\n",
              "      <td>148.971674</td>\n",
              "    </tr>\n",
              "    <tr>\n",
              "      <th>min</th>\n",
              "      <td>1.000000</td>\n",
              "      <td>8.000000</td>\n",
              "    </tr>\n",
              "    <tr>\n",
              "      <th>25%</th>\n",
              "      <td>2.000000</td>\n",
              "      <td>50.000000</td>\n",
              "    </tr>\n",
              "    <tr>\n",
              "      <th>50%</th>\n",
              "      <td>2.000000</td>\n",
              "      <td>72.000000</td>\n",
              "    </tr>\n",
              "    <tr>\n",
              "      <th>75%</th>\n",
              "      <td>3.000000</td>\n",
              "      <td>120.000000</td>\n",
              "    </tr>\n",
              "    <tr>\n",
              "      <th>max</th>\n",
              "      <td>40.000000</td>\n",
              "      <td>3600.000000</td>\n",
              "    </tr>\n",
              "  </tbody>\n",
              "</table>\n",
              "</div>"
            ],
            "text/plain": [
              "               bath         price\n",
              "count  13247.000000  13320.000000\n",
              "mean       2.692610    112.565627\n",
              "std        1.341458    148.971674\n",
              "min        1.000000      8.000000\n",
              "25%        2.000000     50.000000\n",
              "50%        2.000000     72.000000\n",
              "75%        3.000000    120.000000\n",
              "max       40.000000   3600.000000"
            ]
          },
          "metadata": {},
          "execution_count": 8
        }
      ],
      "source": [
        "data.describe()"
      ]
    },
    {
      "cell_type": "code",
      "execution_count": 9,
      "id": "e81d0450",
      "metadata": {
        "colab": {
          "base_uri": "https://localhost:8080/"
        },
        "id": "e81d0450",
        "outputId": "7518c1f6-6525-484b-d41f-65642683dd0b"
      },
      "outputs": [
        {
          "output_type": "stream",
          "name": "stdout",
          "text": [
            "<class 'pandas.core.frame.DataFrame'>\n",
            "RangeIndex: 13320 entries, 0 to 13319\n",
            "Data columns (total 5 columns):\n",
            " #   Column      Non-Null Count  Dtype  \n",
            "---  ------      --------------  -----  \n",
            " 0   location    13319 non-null  object \n",
            " 1   size        13304 non-null  object \n",
            " 2   total_sqft  13320 non-null  object \n",
            " 3   bath        13247 non-null  float64\n",
            " 4   price       13320 non-null  float64\n",
            "dtypes: float64(2), object(3)\n",
            "memory usage: 520.4+ KB\n"
          ]
        }
      ],
      "source": [
        "data.info()"
      ]
    },
    {
      "cell_type": "code",
      "execution_count": 10,
      "id": "7836eb84",
      "metadata": {
        "colab": {
          "base_uri": "https://localhost:8080/"
        },
        "id": "7836eb84",
        "outputId": "5daa5fb3-e333-43ec-e4ad-767856f04925"
      },
      "outputs": [
        {
          "output_type": "execute_result",
          "data": {
            "text/plain": [
              "Whitefield                               540\n",
              "Sarjapur  Road                           399\n",
              "Electronic City                          302\n",
              "Kanakpura Road                           273\n",
              "Thanisandra                              234\n",
              "                                        ... \n",
              "Behind Don Bosco Church                    1\n",
              "Milk Colony                                1\n",
              "Old Mangammanapalya Road                   1\n",
              "Jagadish Nagar                             1\n",
              "Indranagar  100ft road defence colony      1\n",
              "Name: location, Length: 1305, dtype: int64"
            ]
          },
          "metadata": {},
          "execution_count": 10
        }
      ],
      "source": [
        "data['location'].value_counts()"
      ]
    },
    {
      "cell_type": "code",
      "execution_count": 11,
      "id": "3dde38a3",
      "metadata": {
        "id": "3dde38a3"
      },
      "outputs": [],
      "source": [
        "data['location']= data['location'].fillna('Sarjapur Road')"
      ]
    },
    {
      "cell_type": "code",
      "execution_count": 12,
      "id": "b92a3c1a",
      "metadata": {
        "colab": {
          "base_uri": "https://localhost:8080/"
        },
        "id": "b92a3c1a",
        "outputId": "3bcf7486-ee3b-4d1a-b33a-92c1b3301122"
      },
      "outputs": [
        {
          "output_type": "execute_result",
          "data": {
            "text/plain": [
              "2 BHK         5199\n",
              "3 BHK         4310\n",
              "4 Bedroom      826\n",
              "4 BHK          591\n",
              "3 Bedroom      547\n",
              "1 BHK          538\n",
              "2 Bedroom      329\n",
              "5 Bedroom      297\n",
              "6 Bedroom      191\n",
              "1 Bedroom      105\n",
              "8 Bedroom       84\n",
              "7 Bedroom       83\n",
              "5 BHK           59\n",
              "9 Bedroom       46\n",
              "6 BHK           30\n",
              "7 BHK           17\n",
              "1 RK            13\n",
              "10 Bedroom      12\n",
              "9 BHK            8\n",
              "8 BHK            5\n",
              "10 BHK           2\n",
              "11 Bedroom       2\n",
              "11 BHK           2\n",
              "27 BHK           1\n",
              "13 BHK           1\n",
              "16 BHK           1\n",
              "18 Bedroom       1\n",
              "19 BHK           1\n",
              "12 Bedroom       1\n",
              "14 BHK           1\n",
              "43 Bedroom       1\n",
              "Name: size, dtype: int64"
            ]
          },
          "metadata": {},
          "execution_count": 12
        }
      ],
      "source": [
        "data['size'].value_counts()"
      ]
    },
    {
      "cell_type": "code",
      "execution_count": 13,
      "id": "c67452ef",
      "metadata": {
        "id": "c67452ef"
      },
      "outputs": [],
      "source": [
        "data['size']=data['size'].fillna('2 BHK')"
      ]
    },
    {
      "cell_type": "code",
      "execution_count": 14,
      "id": "db746d91",
      "metadata": {
        "id": "db746d91"
      },
      "outputs": [],
      "source": [
        "data['bath']=data['bath'].fillna(data['bath'].median())"
      ]
    },
    {
      "cell_type": "code",
      "execution_count": 15,
      "id": "9dfcb279",
      "metadata": {
        "colab": {
          "base_uri": "https://localhost:8080/"
        },
        "id": "9dfcb279",
        "outputId": "220ff91a-c937-468a-e48f-56b8e736a04a"
      },
      "outputs": [
        {
          "output_type": "stream",
          "name": "stdout",
          "text": [
            "<class 'pandas.core.frame.DataFrame'>\n",
            "RangeIndex: 13320 entries, 0 to 13319\n",
            "Data columns (total 5 columns):\n",
            " #   Column      Non-Null Count  Dtype  \n",
            "---  ------      --------------  -----  \n",
            " 0   location    13320 non-null  object \n",
            " 1   size        13320 non-null  object \n",
            " 2   total_sqft  13320 non-null  object \n",
            " 3   bath        13320 non-null  float64\n",
            " 4   price       13320 non-null  float64\n",
            "dtypes: float64(2), object(3)\n",
            "memory usage: 520.4+ KB\n"
          ]
        }
      ],
      "source": [
        "data.info()"
      ]
    },
    {
      "cell_type": "code",
      "execution_count": 16,
      "id": "214a6850",
      "metadata": {
        "id": "214a6850"
      },
      "outputs": [],
      "source": [
        "data['bhk']=data['size'].str.split().str.get(0).astype(int)"
      ]
    },
    {
      "cell_type": "code",
      "execution_count": 17,
      "id": "e05b9c0e",
      "metadata": {
        "colab": {
          "base_uri": "https://localhost:8080/",
          "height": 112
        },
        "id": "e05b9c0e",
        "outputId": "e637f6ad-2ef9-4221-fbb0-067fdf5fcdc5"
      },
      "outputs": [
        {
          "output_type": "execute_result",
          "data": {
            "text/html": [
              "<div>\n",
              "<style scoped>\n",
              "    .dataframe tbody tr th:only-of-type {\n",
              "        vertical-align: middle;\n",
              "    }\n",
              "\n",
              "    .dataframe tbody tr th {\n",
              "        vertical-align: top;\n",
              "    }\n",
              "\n",
              "    .dataframe thead th {\n",
              "        text-align: right;\n",
              "    }\n",
              "</style>\n",
              "<table border=\"1\" class=\"dataframe\">\n",
              "  <thead>\n",
              "    <tr style=\"text-align: right;\">\n",
              "      <th></th>\n",
              "      <th>location</th>\n",
              "      <th>size</th>\n",
              "      <th>total_sqft</th>\n",
              "      <th>bath</th>\n",
              "      <th>price</th>\n",
              "      <th>bhk</th>\n",
              "    </tr>\n",
              "  </thead>\n",
              "  <tbody>\n",
              "    <tr>\n",
              "      <th>1718</th>\n",
              "      <td>2Electronic City Phase II</td>\n",
              "      <td>27 BHK</td>\n",
              "      <td>8000</td>\n",
              "      <td>27.0</td>\n",
              "      <td>230.0</td>\n",
              "      <td>27</td>\n",
              "    </tr>\n",
              "    <tr>\n",
              "      <th>4684</th>\n",
              "      <td>Munnekollal</td>\n",
              "      <td>43 Bedroom</td>\n",
              "      <td>2400</td>\n",
              "      <td>40.0</td>\n",
              "      <td>660.0</td>\n",
              "      <td>43</td>\n",
              "    </tr>\n",
              "  </tbody>\n",
              "</table>\n",
              "</div>"
            ],
            "text/plain": [
              "                       location        size total_sqft  bath  price  bhk\n",
              "1718  2Electronic City Phase II      27 BHK       8000  27.0  230.0   27\n",
              "4684                Munnekollal  43 Bedroom       2400  40.0  660.0   43"
            ]
          },
          "metadata": {},
          "execution_count": 17
        }
      ],
      "source": [
        "data[data.bhk > 20]"
      ]
    },
    {
      "cell_type": "code",
      "execution_count": 18,
      "id": "f483e8d0",
      "metadata": {
        "colab": {
          "base_uri": "https://localhost:8080/"
        },
        "id": "f483e8d0",
        "outputId": "7ca66de9-64c1-4e71-8f0e-a64ec4bbd196"
      },
      "outputs": [
        {
          "output_type": "execute_result",
          "data": {
            "text/plain": [
              "array(['1056', '2600', '1440', ..., '1133 - 1384', '774', '4689'],\n",
              "      dtype=object)"
            ]
          },
          "metadata": {},
          "execution_count": 18
        }
      ],
      "source": [
        "data['total_sqft'].unique()"
      ]
    },
    {
      "cell_type": "code",
      "execution_count": 19,
      "id": "f081f2f8",
      "metadata": {
        "id": "f081f2f8"
      },
      "outputs": [],
      "source": [
        "def convertRange(x):\n",
        "    \n",
        "    temp = x.split('_')\n",
        "    if len(temp) == 2:\n",
        "        return (float(temp[0]) + float(temp[1]))/2\n",
        "    try:\n",
        "        return float(x)\n",
        "    except:\n",
        "        return None\n",
        "    "
      ]
    },
    {
      "cell_type": "code",
      "execution_count": 20,
      "id": "a1fed967",
      "metadata": {
        "id": "a1fed967"
      },
      "outputs": [],
      "source": [
        "data['total_sqft']=data['total_sqft'].apply(convertRange)"
      ]
    },
    {
      "cell_type": "code",
      "execution_count": 21,
      "id": "5ea5c107",
      "metadata": {
        "colab": {
          "base_uri": "https://localhost:8080/",
          "height": 206
        },
        "id": "5ea5c107",
        "outputId": "246dcaa5-3f68-425f-ab75-75cce564a9dc"
      },
      "outputs": [
        {
          "output_type": "execute_result",
          "data": {
            "text/html": [
              "<div>\n",
              "<style scoped>\n",
              "    .dataframe tbody tr th:only-of-type {\n",
              "        vertical-align: middle;\n",
              "    }\n",
              "\n",
              "    .dataframe tbody tr th {\n",
              "        vertical-align: top;\n",
              "    }\n",
              "\n",
              "    .dataframe thead th {\n",
              "        text-align: right;\n",
              "    }\n",
              "</style>\n",
              "<table border=\"1\" class=\"dataframe\">\n",
              "  <thead>\n",
              "    <tr style=\"text-align: right;\">\n",
              "      <th></th>\n",
              "      <th>location</th>\n",
              "      <th>size</th>\n",
              "      <th>total_sqft</th>\n",
              "      <th>bath</th>\n",
              "      <th>price</th>\n",
              "      <th>bhk</th>\n",
              "    </tr>\n",
              "  </thead>\n",
              "  <tbody>\n",
              "    <tr>\n",
              "      <th>0</th>\n",
              "      <td>Electronic City Phase II</td>\n",
              "      <td>2 BHK</td>\n",
              "      <td>1056.0</td>\n",
              "      <td>2.0</td>\n",
              "      <td>39.07</td>\n",
              "      <td>2</td>\n",
              "    </tr>\n",
              "    <tr>\n",
              "      <th>1</th>\n",
              "      <td>Chikka Tirupathi</td>\n",
              "      <td>4 Bedroom</td>\n",
              "      <td>2600.0</td>\n",
              "      <td>5.0</td>\n",
              "      <td>120.00</td>\n",
              "      <td>4</td>\n",
              "    </tr>\n",
              "    <tr>\n",
              "      <th>2</th>\n",
              "      <td>Uttarahalli</td>\n",
              "      <td>3 BHK</td>\n",
              "      <td>1440.0</td>\n",
              "      <td>2.0</td>\n",
              "      <td>62.00</td>\n",
              "      <td>3</td>\n",
              "    </tr>\n",
              "    <tr>\n",
              "      <th>3</th>\n",
              "      <td>Lingadheeranahalli</td>\n",
              "      <td>3 BHK</td>\n",
              "      <td>1521.0</td>\n",
              "      <td>3.0</td>\n",
              "      <td>95.00</td>\n",
              "      <td>3</td>\n",
              "    </tr>\n",
              "    <tr>\n",
              "      <th>4</th>\n",
              "      <td>Kothanur</td>\n",
              "      <td>2 BHK</td>\n",
              "      <td>1200.0</td>\n",
              "      <td>2.0</td>\n",
              "      <td>51.00</td>\n",
              "      <td>2</td>\n",
              "    </tr>\n",
              "  </tbody>\n",
              "</table>\n",
              "</div>"
            ],
            "text/plain": [
              "                   location       size  total_sqft  bath   price  bhk\n",
              "0  Electronic City Phase II      2 BHK      1056.0   2.0   39.07    2\n",
              "1          Chikka Tirupathi  4 Bedroom      2600.0   5.0  120.00    4\n",
              "2               Uttarahalli      3 BHK      1440.0   2.0   62.00    3\n",
              "3        Lingadheeranahalli      3 BHK      1521.0   3.0   95.00    3\n",
              "4                  Kothanur      2 BHK      1200.0   2.0   51.00    2"
            ]
          },
          "metadata": {},
          "execution_count": 21
        }
      ],
      "source": [
        "data.head()"
      ]
    },
    {
      "cell_type": "code",
      "execution_count": 22,
      "id": "d788ede8",
      "metadata": {
        "id": "d788ede8"
      },
      "outputs": [],
      "source": [
        "data['price_per_sqft'] = data['price'] *100000 / data['total_sqft']"
      ]
    },
    {
      "cell_type": "code",
      "execution_count": 23,
      "id": "ba857b69",
      "metadata": {
        "colab": {
          "base_uri": "https://localhost:8080/"
        },
        "id": "ba857b69",
        "outputId": "ec2c7cf2-2425-4d01-cfab-c5f897666771"
      },
      "outputs": [
        {
          "output_type": "execute_result",
          "data": {
            "text/plain": [
              "0         3699.810606\n",
              "1         4615.384615\n",
              "2         4305.555556\n",
              "3         6245.890861\n",
              "4         4250.000000\n",
              "             ...     \n",
              "13315     6689.834926\n",
              "13316    11111.111111\n",
              "13317     5258.545136\n",
              "13318    10407.336319\n",
              "13319     3090.909091\n",
              "Name: price_per_sqft, Length: 13320, dtype: float64"
            ]
          },
          "metadata": {},
          "execution_count": 23
        }
      ],
      "source": [
        "data['price_per_sqft']"
      ]
    },
    {
      "cell_type": "code",
      "execution_count": 24,
      "id": "cbaaa021",
      "metadata": {
        "colab": {
          "base_uri": "https://localhost:8080/",
          "height": 300
        },
        "id": "cbaaa021",
        "outputId": "ea6c56a1-6aa3-423c-f09d-9e05c3470b63"
      },
      "outputs": [
        {
          "output_type": "execute_result",
          "data": {
            "text/html": [
              "<div>\n",
              "<style scoped>\n",
              "    .dataframe tbody tr th:only-of-type {\n",
              "        vertical-align: middle;\n",
              "    }\n",
              "\n",
              "    .dataframe tbody tr th {\n",
              "        vertical-align: top;\n",
              "    }\n",
              "\n",
              "    .dataframe thead th {\n",
              "        text-align: right;\n",
              "    }\n",
              "</style>\n",
              "<table border=\"1\" class=\"dataframe\">\n",
              "  <thead>\n",
              "    <tr style=\"text-align: right;\">\n",
              "      <th></th>\n",
              "      <th>total_sqft</th>\n",
              "      <th>bath</th>\n",
              "      <th>price</th>\n",
              "      <th>bhk</th>\n",
              "      <th>price_per_sqft</th>\n",
              "    </tr>\n",
              "  </thead>\n",
              "  <tbody>\n",
              "    <tr>\n",
              "      <th>count</th>\n",
              "      <td>13073.000000</td>\n",
              "      <td>13320.000000</td>\n",
              "      <td>13320.000000</td>\n",
              "      <td>13320.000000</td>\n",
              "      <td>1.307300e+04</td>\n",
              "    </tr>\n",
              "    <tr>\n",
              "      <th>mean</th>\n",
              "      <td>1554.942029</td>\n",
              "      <td>2.688814</td>\n",
              "      <td>112.565627</td>\n",
              "      <td>2.802778</td>\n",
              "      <td>7.949600e+03</td>\n",
              "    </tr>\n",
              "    <tr>\n",
              "      <th>std</th>\n",
              "      <td>1238.458773</td>\n",
              "      <td>1.338754</td>\n",
              "      <td>148.971674</td>\n",
              "      <td>1.294496</td>\n",
              "      <td>1.072440e+05</td>\n",
              "    </tr>\n",
              "    <tr>\n",
              "      <th>min</th>\n",
              "      <td>1.000000</td>\n",
              "      <td>1.000000</td>\n",
              "      <td>8.000000</td>\n",
              "      <td>1.000000</td>\n",
              "      <td>2.678298e+02</td>\n",
              "    </tr>\n",
              "    <tr>\n",
              "      <th>25%</th>\n",
              "      <td>1100.000000</td>\n",
              "      <td>2.000000</td>\n",
              "      <td>50.000000</td>\n",
              "      <td>2.000000</td>\n",
              "      <td>4.265734e+03</td>\n",
              "    </tr>\n",
              "    <tr>\n",
              "      <th>50%</th>\n",
              "      <td>1275.000000</td>\n",
              "      <td>2.000000</td>\n",
              "      <td>72.000000</td>\n",
              "      <td>3.000000</td>\n",
              "      <td>5.454545e+03</td>\n",
              "    </tr>\n",
              "    <tr>\n",
              "      <th>75%</th>\n",
              "      <td>1670.000000</td>\n",
              "      <td>3.000000</td>\n",
              "      <td>120.000000</td>\n",
              "      <td>3.000000</td>\n",
              "      <td>7.338057e+03</td>\n",
              "    </tr>\n",
              "    <tr>\n",
              "      <th>max</th>\n",
              "      <td>52272.000000</td>\n",
              "      <td>40.000000</td>\n",
              "      <td>3600.000000</td>\n",
              "      <td>43.000000</td>\n",
              "      <td>1.200000e+07</td>\n",
              "    </tr>\n",
              "  </tbody>\n",
              "</table>\n",
              "</div>"
            ],
            "text/plain": [
              "         total_sqft          bath         price           bhk  price_per_sqft\n",
              "count  13073.000000  13320.000000  13320.000000  13320.000000    1.307300e+04\n",
              "mean    1554.942029      2.688814    112.565627      2.802778    7.949600e+03\n",
              "std     1238.458773      1.338754    148.971674      1.294496    1.072440e+05\n",
              "min        1.000000      1.000000      8.000000      1.000000    2.678298e+02\n",
              "25%     1100.000000      2.000000     50.000000      2.000000    4.265734e+03\n",
              "50%     1275.000000      2.000000     72.000000      3.000000    5.454545e+03\n",
              "75%     1670.000000      3.000000    120.000000      3.000000    7.338057e+03\n",
              "max    52272.000000     40.000000   3600.000000     43.000000    1.200000e+07"
            ]
          },
          "metadata": {},
          "execution_count": 24
        }
      ],
      "source": [
        "data.describe()"
      ]
    },
    {
      "cell_type": "code",
      "execution_count": 25,
      "id": "6a59f4ba",
      "metadata": {
        "colab": {
          "base_uri": "https://localhost:8080/"
        },
        "id": "6a59f4ba",
        "outputId": "fc6eecdf-dec5-40c1-d2a7-02eafb42f100"
      },
      "outputs": [
        {
          "output_type": "execute_result",
          "data": {
            "text/plain": [
              "Whitefield                               540\n",
              "Sarjapur  Road                           399\n",
              "Electronic City                          302\n",
              "Kanakpura Road                           273\n",
              "Thanisandra                              234\n",
              "                                        ... \n",
              "Kanakadasa Layout                          1\n",
              "Milk Colony                                1\n",
              "Old Mangammanapalya Road                   1\n",
              "Jagadish Nagar                             1\n",
              "Indranagar  100ft road defence colony      1\n",
              "Name: location, Length: 1306, dtype: int64"
            ]
          },
          "metadata": {},
          "execution_count": 25
        }
      ],
      "source": [
        "data['location'].value_counts()"
      ]
    },
    {
      "cell_type": "code",
      "execution_count": 26,
      "id": "0ae6b0e8",
      "metadata": {
        "id": "0ae6b0e8"
      },
      "outputs": [],
      "source": [
        "data['location'] = data['location'].apply(lambda x: x.strip())\n",
        "location_count=data['location'].value_counts()"
      ]
    },
    {
      "cell_type": "code",
      "execution_count": 27,
      "id": "f32c8215",
      "metadata": {
        "colab": {
          "base_uri": "https://localhost:8080/"
        },
        "id": "f32c8215",
        "outputId": "36dd244f-f370-4d3f-820a-0401d9b33e30"
      },
      "outputs": [
        {
          "output_type": "execute_result",
          "data": {
            "text/plain": [
              "Naganathapura               10\n",
              "Nagappa Reddy Layout        10\n",
              "Basapura                    10\n",
              "Dairy Circle                10\n",
              "Ganga Nagar                 10\n",
              "                            ..\n",
              "Kalkere Channasandra         1\n",
              "Milk Colony                  1\n",
              "Old Mangammanapalya Road     1\n",
              "Jagadish Nagar               1\n",
              "Chikkajala                   1\n",
              "Name: location, Length: 1054, dtype: int64"
            ]
          },
          "metadata": {},
          "execution_count": 27
        }
      ],
      "source": [
        "location_count_less_10 = location_count[location_count<=10]\n",
        "location_count_less_10"
      ]
    },
    {
      "cell_type": "code",
      "execution_count": 28,
      "id": "bdb872f5",
      "metadata": {
        "id": "bdb872f5"
      },
      "outputs": [],
      "source": [
        "data['location']=data['location'].apply(lambda x: 'other' if x in location_count_less_10 else x)"
      ]
    },
    {
      "cell_type": "code",
      "execution_count": 29,
      "id": "03b3144b",
      "metadata": {
        "colab": {
          "base_uri": "https://localhost:8080/"
        },
        "id": "03b3144b",
        "outputId": "d7f19330-67cf-452a-e627-c76beef1dbb2"
      },
      "outputs": [
        {
          "output_type": "execute_result",
          "data": {
            "text/plain": [
              "other                        2886\n",
              "Whitefield                    541\n",
              "Sarjapur  Road                399\n",
              "Electronic City               304\n",
              "Kanakpura Road                273\n",
              "                             ... \n",
              "2nd Phase Judicial Layout      11\n",
              "Narayanapura                   11\n",
              "Marsur                         11\n",
              "Nehru Nagar                    11\n",
              "HAL 2nd Stage                  11\n",
              "Name: location, Length: 242, dtype: int64"
            ]
          },
          "metadata": {},
          "execution_count": 29
        }
      ],
      "source": [
        "data['location'].value_counts()"
      ]
    },
    {
      "cell_type": "code",
      "execution_count": 30,
      "id": "77b16924",
      "metadata": {
        "scrolled": false,
        "colab": {
          "base_uri": "https://localhost:8080/",
          "height": 300
        },
        "id": "77b16924",
        "outputId": "779dca0d-b5b4-4df9-890a-3d4fd6aa35aa"
      },
      "outputs": [
        {
          "output_type": "execute_result",
          "data": {
            "text/html": [
              "<div>\n",
              "<style scoped>\n",
              "    .dataframe tbody tr th:only-of-type {\n",
              "        vertical-align: middle;\n",
              "    }\n",
              "\n",
              "    .dataframe tbody tr th {\n",
              "        vertical-align: top;\n",
              "    }\n",
              "\n",
              "    .dataframe thead th {\n",
              "        text-align: right;\n",
              "    }\n",
              "</style>\n",
              "<table border=\"1\" class=\"dataframe\">\n",
              "  <thead>\n",
              "    <tr style=\"text-align: right;\">\n",
              "      <th></th>\n",
              "      <th>total_sqft</th>\n",
              "      <th>bath</th>\n",
              "      <th>price</th>\n",
              "      <th>bhk</th>\n",
              "      <th>price_per_sqft</th>\n",
              "    </tr>\n",
              "  </thead>\n",
              "  <tbody>\n",
              "    <tr>\n",
              "      <th>count</th>\n",
              "      <td>13073.000000</td>\n",
              "      <td>13320.000000</td>\n",
              "      <td>13320.000000</td>\n",
              "      <td>13320.000000</td>\n",
              "      <td>1.307300e+04</td>\n",
              "    </tr>\n",
              "    <tr>\n",
              "      <th>mean</th>\n",
              "      <td>1554.942029</td>\n",
              "      <td>2.688814</td>\n",
              "      <td>112.565627</td>\n",
              "      <td>2.802778</td>\n",
              "      <td>7.949600e+03</td>\n",
              "    </tr>\n",
              "    <tr>\n",
              "      <th>std</th>\n",
              "      <td>1238.458773</td>\n",
              "      <td>1.338754</td>\n",
              "      <td>148.971674</td>\n",
              "      <td>1.294496</td>\n",
              "      <td>1.072440e+05</td>\n",
              "    </tr>\n",
              "    <tr>\n",
              "      <th>min</th>\n",
              "      <td>1.000000</td>\n",
              "      <td>1.000000</td>\n",
              "      <td>8.000000</td>\n",
              "      <td>1.000000</td>\n",
              "      <td>2.678298e+02</td>\n",
              "    </tr>\n",
              "    <tr>\n",
              "      <th>25%</th>\n",
              "      <td>1100.000000</td>\n",
              "      <td>2.000000</td>\n",
              "      <td>50.000000</td>\n",
              "      <td>2.000000</td>\n",
              "      <td>4.265734e+03</td>\n",
              "    </tr>\n",
              "    <tr>\n",
              "      <th>50%</th>\n",
              "      <td>1275.000000</td>\n",
              "      <td>2.000000</td>\n",
              "      <td>72.000000</td>\n",
              "      <td>3.000000</td>\n",
              "      <td>5.454545e+03</td>\n",
              "    </tr>\n",
              "    <tr>\n",
              "      <th>75%</th>\n",
              "      <td>1670.000000</td>\n",
              "      <td>3.000000</td>\n",
              "      <td>120.000000</td>\n",
              "      <td>3.000000</td>\n",
              "      <td>7.338057e+03</td>\n",
              "    </tr>\n",
              "    <tr>\n",
              "      <th>max</th>\n",
              "      <td>52272.000000</td>\n",
              "      <td>40.000000</td>\n",
              "      <td>3600.000000</td>\n",
              "      <td>43.000000</td>\n",
              "      <td>1.200000e+07</td>\n",
              "    </tr>\n",
              "  </tbody>\n",
              "</table>\n",
              "</div>"
            ],
            "text/plain": [
              "         total_sqft          bath         price           bhk  price_per_sqft\n",
              "count  13073.000000  13320.000000  13320.000000  13320.000000    1.307300e+04\n",
              "mean    1554.942029      2.688814    112.565627      2.802778    7.949600e+03\n",
              "std     1238.458773      1.338754    148.971674      1.294496    1.072440e+05\n",
              "min        1.000000      1.000000      8.000000      1.000000    2.678298e+02\n",
              "25%     1100.000000      2.000000     50.000000      2.000000    4.265734e+03\n",
              "50%     1275.000000      2.000000     72.000000      3.000000    5.454545e+03\n",
              "75%     1670.000000      3.000000    120.000000      3.000000    7.338057e+03\n",
              "max    52272.000000     40.000000   3600.000000     43.000000    1.200000e+07"
            ]
          },
          "metadata": {},
          "execution_count": 30
        }
      ],
      "source": [
        "data.describe()"
      ]
    },
    {
      "cell_type": "code",
      "execution_count": 31,
      "id": "f73e7f5d",
      "metadata": {
        "colab": {
          "base_uri": "https://localhost:8080/"
        },
        "id": "f73e7f5d",
        "outputId": "ebdb3352-d6fc-46fb-d913-aa72f4fed73c"
      },
      "outputs": [
        {
          "output_type": "execute_result",
          "data": {
            "text/plain": [
              "count    13073.000000\n",
              "mean       573.254923\n",
              "std        389.887823\n",
              "min          0.250000\n",
              "25%        472.000000\n",
              "50%        551.000000\n",
              "75%        625.000000\n",
              "max      26136.000000\n",
              "dtype: float64"
            ]
          },
          "metadata": {},
          "execution_count": 31
        }
      ],
      "source": [
        "(data['total_sqft']/data['bhk']).describe()"
      ]
    },
    {
      "cell_type": "code",
      "execution_count": 32,
      "id": "0e49e73e",
      "metadata": {
        "colab": {
          "base_uri": "https://localhost:8080/",
          "height": 300
        },
        "id": "0e49e73e",
        "outputId": "f6b2a72d-c801-4825-89fa-7ba4d584de54"
      },
      "outputs": [
        {
          "output_type": "execute_result",
          "data": {
            "text/html": [
              "<div>\n",
              "<style scoped>\n",
              "    .dataframe tbody tr th:only-of-type {\n",
              "        vertical-align: middle;\n",
              "    }\n",
              "\n",
              "    .dataframe tbody tr th {\n",
              "        vertical-align: top;\n",
              "    }\n",
              "\n",
              "    .dataframe thead th {\n",
              "        text-align: right;\n",
              "    }\n",
              "</style>\n",
              "<table border=\"1\" class=\"dataframe\">\n",
              "  <thead>\n",
              "    <tr style=\"text-align: right;\">\n",
              "      <th></th>\n",
              "      <th>total_sqft</th>\n",
              "      <th>bath</th>\n",
              "      <th>price</th>\n",
              "      <th>bhk</th>\n",
              "      <th>price_per_sqft</th>\n",
              "    </tr>\n",
              "  </thead>\n",
              "  <tbody>\n",
              "    <tr>\n",
              "      <th>count</th>\n",
              "      <td>12329.000000</td>\n",
              "      <td>12329.000000</td>\n",
              "      <td>12329.000000</td>\n",
              "      <td>12329.000000</td>\n",
              "      <td>12329.000000</td>\n",
              "    </tr>\n",
              "    <tr>\n",
              "      <th>mean</th>\n",
              "      <td>1590.166773</td>\n",
              "      <td>2.561441</td>\n",
              "      <td>111.444236</td>\n",
              "      <td>2.651472</td>\n",
              "      <td>6322.476758</td>\n",
              "    </tr>\n",
              "    <tr>\n",
              "      <th>std</th>\n",
              "      <td>1261.827604</td>\n",
              "      <td>1.072551</td>\n",
              "      <td>152.759322</td>\n",
              "      <td>0.973754</td>\n",
              "      <td>4187.479096</td>\n",
              "    </tr>\n",
              "    <tr>\n",
              "      <th>min</th>\n",
              "      <td>300.000000</td>\n",
              "      <td>1.000000</td>\n",
              "      <td>8.440000</td>\n",
              "      <td>1.000000</td>\n",
              "      <td>267.829813</td>\n",
              "    </tr>\n",
              "    <tr>\n",
              "      <th>25%</th>\n",
              "      <td>1118.000000</td>\n",
              "      <td>2.000000</td>\n",
              "      <td>49.340000</td>\n",
              "      <td>2.000000</td>\n",
              "      <td>4207.119741</td>\n",
              "    </tr>\n",
              "    <tr>\n",
              "      <th>50%</th>\n",
              "      <td>1300.000000</td>\n",
              "      <td>2.000000</td>\n",
              "      <td>70.000000</td>\n",
              "      <td>3.000000</td>\n",
              "      <td>5300.000000</td>\n",
              "    </tr>\n",
              "    <tr>\n",
              "      <th>75%</th>\n",
              "      <td>1700.000000</td>\n",
              "      <td>3.000000</td>\n",
              "      <td>115.000000</td>\n",
              "      <td>3.000000</td>\n",
              "      <td>6938.483548</td>\n",
              "    </tr>\n",
              "    <tr>\n",
              "      <th>max</th>\n",
              "      <td>52272.000000</td>\n",
              "      <td>16.000000</td>\n",
              "      <td>3600.000000</td>\n",
              "      <td>16.000000</td>\n",
              "      <td>176470.588235</td>\n",
              "    </tr>\n",
              "  </tbody>\n",
              "</table>\n",
              "</div>"
            ],
            "text/plain": [
              "         total_sqft          bath         price           bhk  price_per_sqft\n",
              "count  12329.000000  12329.000000  12329.000000  12329.000000    12329.000000\n",
              "mean    1590.166773      2.561441    111.444236      2.651472     6322.476758\n",
              "std     1261.827604      1.072551    152.759322      0.973754     4187.479096\n",
              "min      300.000000      1.000000      8.440000      1.000000      267.829813\n",
              "25%     1118.000000      2.000000     49.340000      2.000000     4207.119741\n",
              "50%     1300.000000      2.000000     70.000000      3.000000     5300.000000\n",
              "75%     1700.000000      3.000000    115.000000      3.000000     6938.483548\n",
              "max    52272.000000     16.000000   3600.000000     16.000000   176470.588235"
            ]
          },
          "metadata": {},
          "execution_count": 32
        }
      ],
      "source": [
        "data = data[((data['total_sqft']/data['bhk']) >=300)]\n",
        "data.describe()"
      ]
    },
    {
      "cell_type": "code",
      "execution_count": 33,
      "id": "a47caa16",
      "metadata": {
        "colab": {
          "base_uri": "https://localhost:8080/"
        },
        "id": "a47caa16",
        "outputId": "95d5613f-8f3e-4d05-abb7-e19ad7217b26"
      },
      "outputs": [
        {
          "output_type": "execute_result",
          "data": {
            "text/plain": [
              "(12329, 7)"
            ]
          },
          "metadata": {},
          "execution_count": 33
        }
      ],
      "source": [
        "data.shape"
      ]
    },
    {
      "cell_type": "code",
      "execution_count": 34,
      "id": "c6b607af",
      "metadata": {
        "colab": {
          "base_uri": "https://localhost:8080/"
        },
        "id": "c6b607af",
        "outputId": "d67b2246-dbff-4561-fc9b-cd530d3ccce5"
      },
      "outputs": [
        {
          "output_type": "execute_result",
          "data": {
            "text/plain": [
              "count     12329.000000\n",
              "mean       6322.476758\n",
              "std        4187.479096\n",
              "min         267.829813\n",
              "25%        4207.119741\n",
              "50%        5300.000000\n",
              "75%        6938.483548\n",
              "max      176470.588235\n",
              "Name: price_per_sqft, dtype: float64"
            ]
          },
          "metadata": {},
          "execution_count": 34
        }
      ],
      "source": [
        "data.price_per_sqft.describe()"
      ]
    },
    {
      "cell_type": "code",
      "execution_count": 35,
      "id": "1f676f94",
      "metadata": {
        "colab": {
          "base_uri": "https://localhost:8080/",
          "height": 300
        },
        "id": "1f676f94",
        "outputId": "32cea589-f6b3-4ac5-d58e-5323e781393e"
      },
      "outputs": [
        {
          "output_type": "execute_result",
          "data": {
            "text/html": [
              "<div>\n",
              "<style scoped>\n",
              "    .dataframe tbody tr th:only-of-type {\n",
              "        vertical-align: middle;\n",
              "    }\n",
              "\n",
              "    .dataframe tbody tr th {\n",
              "        vertical-align: top;\n",
              "    }\n",
              "\n",
              "    .dataframe thead th {\n",
              "        text-align: right;\n",
              "    }\n",
              "</style>\n",
              "<table border=\"1\" class=\"dataframe\">\n",
              "  <thead>\n",
              "    <tr style=\"text-align: right;\">\n",
              "      <th></th>\n",
              "      <th>total_sqft</th>\n",
              "      <th>bath</th>\n",
              "      <th>price</th>\n",
              "      <th>bhk</th>\n",
              "      <th>price_per_sqft</th>\n",
              "    </tr>\n",
              "  </thead>\n",
              "  <tbody>\n",
              "    <tr>\n",
              "      <th>count</th>\n",
              "      <td>10153.000000</td>\n",
              "      <td>10153.000000</td>\n",
              "      <td>10153.000000</td>\n",
              "      <td>10153.000000</td>\n",
              "      <td>10153.000000</td>\n",
              "    </tr>\n",
              "    <tr>\n",
              "      <th>mean</th>\n",
              "      <td>1502.725758</td>\n",
              "      <td>2.471880</td>\n",
              "      <td>91.104765</td>\n",
              "      <td>2.573525</td>\n",
              "      <td>5669.621675</td>\n",
              "    </tr>\n",
              "    <tr>\n",
              "      <th>std</th>\n",
              "      <td>873.997461</td>\n",
              "      <td>0.971938</td>\n",
              "      <td>86.241338</td>\n",
              "      <td>0.893533</td>\n",
              "      <td>2274.739750</td>\n",
              "    </tr>\n",
              "    <tr>\n",
              "      <th>min</th>\n",
              "      <td>300.000000</td>\n",
              "      <td>1.000000</td>\n",
              "      <td>10.000000</td>\n",
              "      <td>1.000000</td>\n",
              "      <td>1250.000000</td>\n",
              "    </tr>\n",
              "    <tr>\n",
              "      <th>25%</th>\n",
              "      <td>1110.000000</td>\n",
              "      <td>2.000000</td>\n",
              "      <td>49.000000</td>\n",
              "      <td>2.000000</td>\n",
              "      <td>4242.424242</td>\n",
              "    </tr>\n",
              "    <tr>\n",
              "      <th>50%</th>\n",
              "      <td>1283.000000</td>\n",
              "      <td>2.000000</td>\n",
              "      <td>67.000000</td>\n",
              "      <td>2.000000</td>\n",
              "      <td>5183.823529</td>\n",
              "    </tr>\n",
              "    <tr>\n",
              "      <th>75%</th>\n",
              "      <td>1650.000000</td>\n",
              "      <td>3.000000</td>\n",
              "      <td>100.000000</td>\n",
              "      <td>3.000000</td>\n",
              "      <td>6451.612903</td>\n",
              "    </tr>\n",
              "    <tr>\n",
              "      <th>max</th>\n",
              "      <td>30400.000000</td>\n",
              "      <td>16.000000</td>\n",
              "      <td>2200.000000</td>\n",
              "      <td>16.000000</td>\n",
              "      <td>24509.803922</td>\n",
              "    </tr>\n",
              "  </tbody>\n",
              "</table>\n",
              "</div>"
            ],
            "text/plain": [
              "         total_sqft          bath         price           bhk  price_per_sqft\n",
              "count  10153.000000  10153.000000  10153.000000  10153.000000    10153.000000\n",
              "mean    1502.725758      2.471880     91.104765      2.573525     5669.621675\n",
              "std      873.997461      0.971938     86.241338      0.893533     2274.739750\n",
              "min      300.000000      1.000000     10.000000      1.000000     1250.000000\n",
              "25%     1110.000000      2.000000     49.000000      2.000000     4242.424242\n",
              "50%     1283.000000      2.000000     67.000000      2.000000     5183.823529\n",
              "75%     1650.000000      3.000000    100.000000      3.000000     6451.612903\n",
              "max    30400.000000     16.000000   2200.000000     16.000000    24509.803922"
            ]
          },
          "metadata": {},
          "execution_count": 35
        }
      ],
      "source": [
        "def remove_outliers_sqft(df):\n",
        "    df_output = pd.DataFrame()\n",
        "    for key,subdf in df.groupby('location'):\n",
        "        m = np.mean(subdf.price_per_sqft)\n",
        "        \n",
        "        st = np.std(subdf.price_per_sqft)\n",
        "        \n",
        "        gen_df = subdf[(subdf.price_per_sqft > (m-st)) & (subdf.price_per_sqft <= (m+st))]\n",
        "        df_output =pd.concat([df_output,gen_df],ignore_index =True)\n",
        "    return df_output\n",
        "data = remove_outliers_sqft(data)\n",
        "data.describe()"
      ]
    },
    {
      "cell_type": "code",
      "execution_count": 36,
      "id": "f12a356a",
      "metadata": {
        "id": "f12a356a"
      },
      "outputs": [],
      "source": [
        "def bhk_outlier_remover(df):\n",
        "    exclude_indices = np.array([])\n",
        "    for location, location_df in df.groupby('location'):\n",
        "        bhk_stats = {}\n",
        "        for bhk, bhk_df in location_df.groupby('bhk'):\n",
        "            bhk_stats[bhk] = {\n",
        "                'mean': np.mean(bhk_df.price_per_sqft),\n",
        "                'std': np.std(bhk_df.price_per_sqft),\n",
        "                'count': bhk_df.shape[0]\n",
        "            }\n",
        "        for bhk, bhk_df in location_df.groupby('bhk'):\n",
        "            stats = bhk_stats.get(bhk-1)\n",
        "            if stats and stats ['count']>5:\n",
        "                exclude_indices = np.append(exclude_indices, bhk_df[bhk_df.price_per_sqft<(stats['mean'])].index.values)\n",
        "    return df.drop(exclude_indices, axis='index')"
      ]
    },
    {
      "cell_type": "code",
      "execution_count": 37,
      "id": "aec95539",
      "metadata": {
        "id": "aec95539"
      },
      "outputs": [],
      "source": [
        "data=bhk_outlier_remover(data)"
      ]
    },
    {
      "cell_type": "code",
      "execution_count": 38,
      "id": "4c5fb6b9",
      "metadata": {
        "colab": {
          "base_uri": "https://localhost:8080/"
        },
        "id": "4c5fb6b9",
        "outputId": "6a333296-d48f-46bf-aaa5-75b028b4c1d1"
      },
      "outputs": [
        {
          "output_type": "execute_result",
          "data": {
            "text/plain": [
              "(7227, 7)"
            ]
          },
          "metadata": {},
          "execution_count": 38
        }
      ],
      "source": [
        "data.shape"
      ]
    },
    {
      "cell_type": "code",
      "execution_count": 39,
      "id": "53e6aab8",
      "metadata": {
        "colab": {
          "base_uri": "https://localhost:8080/",
          "height": 424
        },
        "id": "53e6aab8",
        "outputId": "872dc332-5985-4335-8152-992fe3bc880e"
      },
      "outputs": [
        {
          "output_type": "execute_result",
          "data": {
            "text/html": [
              "<div>\n",
              "<style scoped>\n",
              "    .dataframe tbody tr th:only-of-type {\n",
              "        vertical-align: middle;\n",
              "    }\n",
              "\n",
              "    .dataframe tbody tr th {\n",
              "        vertical-align: top;\n",
              "    }\n",
              "\n",
              "    .dataframe thead th {\n",
              "        text-align: right;\n",
              "    }\n",
              "</style>\n",
              "<table border=\"1\" class=\"dataframe\">\n",
              "  <thead>\n",
              "    <tr style=\"text-align: right;\">\n",
              "      <th></th>\n",
              "      <th>location</th>\n",
              "      <th>size</th>\n",
              "      <th>total_sqft</th>\n",
              "      <th>bath</th>\n",
              "      <th>price</th>\n",
              "      <th>bhk</th>\n",
              "      <th>price_per_sqft</th>\n",
              "    </tr>\n",
              "  </thead>\n",
              "  <tbody>\n",
              "    <tr>\n",
              "      <th>0</th>\n",
              "      <td>1st Block Jayanagar</td>\n",
              "      <td>4 BHK</td>\n",
              "      <td>2850.0</td>\n",
              "      <td>4.0</td>\n",
              "      <td>428.0</td>\n",
              "      <td>4</td>\n",
              "      <td>15017.543860</td>\n",
              "    </tr>\n",
              "    <tr>\n",
              "      <th>1</th>\n",
              "      <td>1st Block Jayanagar</td>\n",
              "      <td>3 BHK</td>\n",
              "      <td>1630.0</td>\n",
              "      <td>3.0</td>\n",
              "      <td>194.0</td>\n",
              "      <td>3</td>\n",
              "      <td>11901.840491</td>\n",
              "    </tr>\n",
              "    <tr>\n",
              "      <th>2</th>\n",
              "      <td>1st Block Jayanagar</td>\n",
              "      <td>3 BHK</td>\n",
              "      <td>1875.0</td>\n",
              "      <td>2.0</td>\n",
              "      <td>235.0</td>\n",
              "      <td>3</td>\n",
              "      <td>12533.333333</td>\n",
              "    </tr>\n",
              "    <tr>\n",
              "      <th>3</th>\n",
              "      <td>1st Block Jayanagar</td>\n",
              "      <td>3 BHK</td>\n",
              "      <td>1200.0</td>\n",
              "      <td>2.0</td>\n",
              "      <td>130.0</td>\n",
              "      <td>3</td>\n",
              "      <td>10833.333333</td>\n",
              "    </tr>\n",
              "    <tr>\n",
              "      <th>4</th>\n",
              "      <td>1st Block Jayanagar</td>\n",
              "      <td>2 BHK</td>\n",
              "      <td>1235.0</td>\n",
              "      <td>2.0</td>\n",
              "      <td>148.0</td>\n",
              "      <td>2</td>\n",
              "      <td>11983.805668</td>\n",
              "    </tr>\n",
              "    <tr>\n",
              "      <th>...</th>\n",
              "      <td>...</td>\n",
              "      <td>...</td>\n",
              "      <td>...</td>\n",
              "      <td>...</td>\n",
              "      <td>...</td>\n",
              "      <td>...</td>\n",
              "      <td>...</td>\n",
              "    </tr>\n",
              "    <tr>\n",
              "      <th>10144</th>\n",
              "      <td>other</td>\n",
              "      <td>2 BHK</td>\n",
              "      <td>1200.0</td>\n",
              "      <td>2.0</td>\n",
              "      <td>70.0</td>\n",
              "      <td>2</td>\n",
              "      <td>5833.333333</td>\n",
              "    </tr>\n",
              "    <tr>\n",
              "      <th>10145</th>\n",
              "      <td>other</td>\n",
              "      <td>1 BHK</td>\n",
              "      <td>1800.0</td>\n",
              "      <td>1.0</td>\n",
              "      <td>200.0</td>\n",
              "      <td>1</td>\n",
              "      <td>11111.111111</td>\n",
              "    </tr>\n",
              "    <tr>\n",
              "      <th>10148</th>\n",
              "      <td>other</td>\n",
              "      <td>2 BHK</td>\n",
              "      <td>1353.0</td>\n",
              "      <td>2.0</td>\n",
              "      <td>110.0</td>\n",
              "      <td>2</td>\n",
              "      <td>8130.081301</td>\n",
              "    </tr>\n",
              "    <tr>\n",
              "      <th>10149</th>\n",
              "      <td>other</td>\n",
              "      <td>1 Bedroom</td>\n",
              "      <td>812.0</td>\n",
              "      <td>1.0</td>\n",
              "      <td>26.0</td>\n",
              "      <td>1</td>\n",
              "      <td>3201.970443</td>\n",
              "    </tr>\n",
              "    <tr>\n",
              "      <th>10152</th>\n",
              "      <td>other</td>\n",
              "      <td>4 BHK</td>\n",
              "      <td>3600.0</td>\n",
              "      <td>5.0</td>\n",
              "      <td>400.0</td>\n",
              "      <td>4</td>\n",
              "      <td>11111.111111</td>\n",
              "    </tr>\n",
              "  </tbody>\n",
              "</table>\n",
              "<p>7227 rows × 7 columns</p>\n",
              "</div>"
            ],
            "text/plain": [
              "                  location       size  total_sqft  ...  price  bhk  price_per_sqft\n",
              "0      1st Block Jayanagar      4 BHK      2850.0  ...  428.0    4    15017.543860\n",
              "1      1st Block Jayanagar      3 BHK      1630.0  ...  194.0    3    11901.840491\n",
              "2      1st Block Jayanagar      3 BHK      1875.0  ...  235.0    3    12533.333333\n",
              "3      1st Block Jayanagar      3 BHK      1200.0  ...  130.0    3    10833.333333\n",
              "4      1st Block Jayanagar      2 BHK      1235.0  ...  148.0    2    11983.805668\n",
              "...                    ...        ...         ...  ...    ...  ...             ...\n",
              "10144                other      2 BHK      1200.0  ...   70.0    2     5833.333333\n",
              "10145                other      1 BHK      1800.0  ...  200.0    1    11111.111111\n",
              "10148                other      2 BHK      1353.0  ...  110.0    2     8130.081301\n",
              "10149                other  1 Bedroom       812.0  ...   26.0    1     3201.970443\n",
              "10152                other      4 BHK      3600.0  ...  400.0    4    11111.111111\n",
              "\n",
              "[7227 rows x 7 columns]"
            ]
          },
          "metadata": {},
          "execution_count": 39
        }
      ],
      "source": [
        "data"
      ]
    },
    {
      "cell_type": "code",
      "execution_count": 40,
      "id": "c2b109e8",
      "metadata": {
        "id": "c2b109e8"
      },
      "outputs": [],
      "source": [
        "data.drop(columns=['size','price_per_sqft'],inplace=True)"
      ]
    },
    {
      "cell_type": "markdown",
      "id": "dd3bcf9d",
      "metadata": {
        "id": "dd3bcf9d"
      },
      "source": [
        "## Cleaned Data"
      ]
    },
    {
      "cell_type": "code",
      "execution_count": 87,
      "id": "49064235",
      "metadata": {
        "colab": {
          "base_uri": "https://localhost:8080/",
          "height": 206
        },
        "id": "49064235",
        "outputId": "1cb9086a-9130-49c2-d23c-6a70a1601872"
      },
      "outputs": [
        {
          "output_type": "execute_result",
          "data": {
            "text/html": [
              "<div>\n",
              "<style scoped>\n",
              "    .dataframe tbody tr th:only-of-type {\n",
              "        vertical-align: middle;\n",
              "    }\n",
              "\n",
              "    .dataframe tbody tr th {\n",
              "        vertical-align: top;\n",
              "    }\n",
              "\n",
              "    .dataframe thead th {\n",
              "        text-align: right;\n",
              "    }\n",
              "</style>\n",
              "<table border=\"1\" class=\"dataframe\">\n",
              "  <thead>\n",
              "    <tr style=\"text-align: right;\">\n",
              "      <th></th>\n",
              "      <th>location</th>\n",
              "      <th>total_sqft</th>\n",
              "      <th>bath</th>\n",
              "      <th>price</th>\n",
              "      <th>bhk</th>\n",
              "    </tr>\n",
              "  </thead>\n",
              "  <tbody>\n",
              "    <tr>\n",
              "      <th>0</th>\n",
              "      <td>1st Block Jayanagar</td>\n",
              "      <td>2850.0</td>\n",
              "      <td>4.0</td>\n",
              "      <td>428.0</td>\n",
              "      <td>4</td>\n",
              "    </tr>\n",
              "    <tr>\n",
              "      <th>1</th>\n",
              "      <td>1st Block Jayanagar</td>\n",
              "      <td>1630.0</td>\n",
              "      <td>3.0</td>\n",
              "      <td>194.0</td>\n",
              "      <td>3</td>\n",
              "    </tr>\n",
              "    <tr>\n",
              "      <th>2</th>\n",
              "      <td>1st Block Jayanagar</td>\n",
              "      <td>1875.0</td>\n",
              "      <td>2.0</td>\n",
              "      <td>235.0</td>\n",
              "      <td>3</td>\n",
              "    </tr>\n",
              "    <tr>\n",
              "      <th>3</th>\n",
              "      <td>1st Block Jayanagar</td>\n",
              "      <td>1200.0</td>\n",
              "      <td>2.0</td>\n",
              "      <td>130.0</td>\n",
              "      <td>3</td>\n",
              "    </tr>\n",
              "    <tr>\n",
              "      <th>4</th>\n",
              "      <td>1st Block Jayanagar</td>\n",
              "      <td>1235.0</td>\n",
              "      <td>2.0</td>\n",
              "      <td>148.0</td>\n",
              "      <td>2</td>\n",
              "    </tr>\n",
              "  </tbody>\n",
              "</table>\n",
              "</div>"
            ],
            "text/plain": [
              "              location  total_sqft  bath  price  bhk\n",
              "0  1st Block Jayanagar      2850.0   4.0  428.0    4\n",
              "1  1st Block Jayanagar      1630.0   3.0  194.0    3\n",
              "2  1st Block Jayanagar      1875.0   2.0  235.0    3\n",
              "3  1st Block Jayanagar      1200.0   2.0  130.0    3\n",
              "4  1st Block Jayanagar      1235.0   2.0  148.0    2"
            ]
          },
          "metadata": {},
          "execution_count": 87
        }
      ],
      "source": [
        "data.head()"
      ]
    },
    {
      "cell_type": "code",
      "execution_count": 89,
      "id": "59d3cefd",
      "metadata": {
        "id": "59d3cefd"
      },
      "outputs": [],
      "source": [
        "data.to_csv(\"cleaned_data.csv\", encoding='utf-8')"
      ]
    },
    {
      "cell_type": "code",
      "execution_count": 90,
      "id": "3dc6a504",
      "metadata": {
        "id": "3dc6a504"
      },
      "outputs": [],
      "source": [
        "X=data.drop(columns=['price'])\n",
        "y=data['price']"
      ]
    },
    {
      "cell_type": "code",
      "execution_count": 91,
      "id": "6f7902ef",
      "metadata": {
        "id": "6f7902ef"
      },
      "outputs": [],
      "source": [
        "from sklearn.model_selection import train_test_split\n",
        "from sklearn.linear_model import LinearRegression, Lasso, Ridge\n",
        "from sklearn.preprocessing import OneHotEncoder, StandardScaler\n",
        "from sklearn.compose import make_column_transformer\n",
        "from sklearn.pipeline import make_pipeline\n",
        "from sklearn.metrics import r2_score"
      ]
    },
    {
      "cell_type": "code",
      "execution_count": 92,
      "id": "b98051de",
      "metadata": {
        "id": "b98051de"
      },
      "outputs": [],
      "source": [
        "X_train,X_test,y_train,y_test = train_test_split(X,y, test_size=0.2, random_state=0)"
      ]
    },
    {
      "cell_type": "code",
      "execution_count": 93,
      "id": "cc5e3c5e",
      "metadata": {
        "colab": {
          "base_uri": "https://localhost:8080/"
        },
        "id": "cc5e3c5e",
        "outputId": "88476d9c-0738-4915-8f04-94741c7408e3"
      },
      "outputs": [
        {
          "output_type": "stream",
          "name": "stdout",
          "text": [
            "(5781, 4)\n",
            "(1446, 4)\n"
          ]
        }
      ],
      "source": [
        "print (X_train.shape)\n",
        "print (X_test.shape)"
      ]
    },
    {
      "cell_type": "code",
      "execution_count": 94,
      "id": "c8e62606",
      "metadata": {
        "id": "c8e62606"
      },
      "outputs": [],
      "source": [
        "column_trans = make_column_transformer((OneHotEncoder(sparse=False), ['location']),\n",
        "                                        remainder= 'passthrough')"
      ]
    },
    {
      "cell_type": "code",
      "execution_count": 95,
      "id": "9a6fd33d",
      "metadata": {
        "id": "9a6fd33d"
      },
      "outputs": [],
      "source": [
        "scaler=StandardScaler()"
      ]
    },
    {
      "cell_type": "code",
      "execution_count": 96,
      "id": "12cb1d19",
      "metadata": {
        "id": "12cb1d19"
      },
      "outputs": [],
      "source": [
        "lr=LinearRegression(normalize=True)"
      ]
    },
    {
      "cell_type": "code",
      "execution_count": 97,
      "id": "d7d9cabb",
      "metadata": {
        "id": "d7d9cabb"
      },
      "outputs": [],
      "source": [
        "pipe = make_pipeline(column_trans,scaler, lr)"
      ]
    },
    {
      "cell_type": "code",
      "execution_count": 98,
      "id": "7a2965bf",
      "metadata": {
        "colab": {
          "base_uri": "https://localhost:8080/"
        },
        "id": "7a2965bf",
        "outputId": "a0af818c-1bd5-43c4-f47c-46a04c220fec"
      },
      "outputs": [
        {
          "output_type": "stream",
          "name": "stderr",
          "text": [
            "/usr/local/lib/python3.7/dist-packages/sklearn/linear_model/_base.py:145: FutureWarning: 'normalize' was deprecated in version 1.0 and will be removed in 1.2.\n",
            "If you wish to scale the data, use Pipeline with a StandardScaler in a preprocessing stage. To reproduce the previous behavior:\n",
            "\n",
            "from sklearn.pipeline import make_pipeline\n",
            "\n",
            "model = make_pipeline(StandardScaler(with_mean=False), LinearRegression())\n",
            "\n",
            "If you wish to pass a sample_weight parameter, you need to pass it as a fit parameter to each step of the pipeline as follows:\n",
            "\n",
            "kwargs = {s[0] + '__sample_weight': sample_weight for s in model.steps}\n",
            "model.fit(X, y, **kwargs)\n",
            "\n",
            "\n",
            "  FutureWarning,\n"
          ]
        },
        {
          "output_type": "execute_result",
          "data": {
            "text/plain": [
              "Pipeline(steps=[('columntransformer',\n",
              "                 ColumnTransformer(remainder='passthrough',\n",
              "                                   transformers=[('onehotencoder',\n",
              "                                                  OneHotEncoder(sparse=False),\n",
              "                                                  ['location'])])),\n",
              "                ('standardscaler', StandardScaler()),\n",
              "                ('linearregression', LinearRegression(normalize=True))])"
            ]
          },
          "metadata": {},
          "execution_count": 98
        }
      ],
      "source": [
        "pipe.fit(X_train,y_train)"
      ]
    },
    {
      "cell_type": "code",
      "execution_count": 99,
      "id": "1c80a1ee",
      "metadata": {
        "id": "1c80a1ee"
      },
      "outputs": [],
      "source": [
        "y_pred_lr = pipe.predict(X_test)"
      ]
    },
    {
      "cell_type": "code",
      "execution_count": 100,
      "id": "4717988d",
      "metadata": {
        "colab": {
          "base_uri": "https://localhost:8080/"
        },
        "id": "4717988d",
        "outputId": "04e37412-3515-4583-a486-5a200fb54dae"
      },
      "outputs": [
        {
          "output_type": "execute_result",
          "data": {
            "text/plain": [
              "0.815206154082005"
            ]
          },
          "metadata": {},
          "execution_count": 100
        }
      ],
      "source": [
        "r2_score(y_test, y_pred_lr)"
      ]
    },
    {
      "cell_type": "code",
      "execution_count": 101,
      "id": "49a5a269",
      "metadata": {
        "id": "49a5a269"
      },
      "outputs": [],
      "source": [
        "lasso = Lasso()"
      ]
    },
    {
      "cell_type": "code",
      "execution_count": 102,
      "id": "6074b296",
      "metadata": {
        "id": "6074b296"
      },
      "outputs": [],
      "source": [
        "pipe = make_pipeline(column_trans,scaler, lasso)"
      ]
    },
    {
      "cell_type": "code",
      "execution_count": 103,
      "id": "a3bccfce",
      "metadata": {
        "colab": {
          "base_uri": "https://localhost:8080/"
        },
        "id": "a3bccfce",
        "outputId": "bb71d8c2-aded-457a-f44d-5843bfad6b4e"
      },
      "outputs": [
        {
          "output_type": "execute_result",
          "data": {
            "text/plain": [
              "Pipeline(steps=[('columntransformer',\n",
              "                 ColumnTransformer(remainder='passthrough',\n",
              "                                   transformers=[('onehotencoder',\n",
              "                                                  OneHotEncoder(sparse=False),\n",
              "                                                  ['location'])])),\n",
              "                ('standardscaler', StandardScaler()), ('lasso', Lasso())])"
            ]
          },
          "metadata": {},
          "execution_count": 103
        }
      ],
      "source": [
        "pipe.fit(X_train,y_train)"
      ]
    },
    {
      "cell_type": "code",
      "execution_count": 104,
      "id": "d1e83e85",
      "metadata": {
        "colab": {
          "base_uri": "https://localhost:8080/"
        },
        "id": "d1e83e85",
        "outputId": "2275d651-5de6-4b28-e732-bf555e57860c"
      },
      "outputs": [
        {
          "output_type": "execute_result",
          "data": {
            "text/plain": [
              "0.8019408594870727"
            ]
          },
          "metadata": {},
          "execution_count": 104
        }
      ],
      "source": [
        "y_pred_lasso = pipe.predict(X_test)\n",
        "r2_score(y_test, y_pred_lasso)"
      ]
    },
    {
      "cell_type": "code",
      "execution_count": 105,
      "id": "2346f101",
      "metadata": {
        "id": "2346f101"
      },
      "outputs": [],
      "source": [
        "ridge = Ridge()"
      ]
    },
    {
      "cell_type": "code",
      "execution_count": 106,
      "id": "2fefee33",
      "metadata": {
        "id": "2fefee33"
      },
      "outputs": [],
      "source": [
        "pipe = make_pipeline(column_trans,scaler,ridge)"
      ]
    },
    {
      "cell_type": "code",
      "execution_count": 107,
      "id": "9eceb6a0",
      "metadata": {
        "colab": {
          "base_uri": "https://localhost:8080/"
        },
        "id": "9eceb6a0",
        "outputId": "5517966e-ccf7-45cb-e222-12cab462d129"
      },
      "outputs": [
        {
          "output_type": "execute_result",
          "data": {
            "text/plain": [
              "Pipeline(steps=[('columntransformer',\n",
              "                 ColumnTransformer(remainder='passthrough',\n",
              "                                   transformers=[('onehotencoder',\n",
              "                                                  OneHotEncoder(sparse=False),\n",
              "                                                  ['location'])])),\n",
              "                ('standardscaler', StandardScaler()), ('ridge', Ridge())])"
            ]
          },
          "metadata": {},
          "execution_count": 107
        }
      ],
      "source": [
        "pipe.fit(X_train,y_train)"
      ]
    },
    {
      "cell_type": "code",
      "execution_count": 108,
      "id": "7e2960e6",
      "metadata": {
        "colab": {
          "base_uri": "https://localhost:8080/"
        },
        "id": "7e2960e6",
        "outputId": "c5b852ed-3ed0-4059-8069-ed7d31cccb7e"
      },
      "outputs": [
        {
          "output_type": "execute_result",
          "data": {
            "text/plain": [
              "0.8153748464584644"
            ]
          },
          "metadata": {},
          "execution_count": 108
        }
      ],
      "source": [
        "y_pred_ridge = pipe.predict(X_test)\n",
        "r2_score(y_test, y_pred_ridge)"
      ]
    },
    {
      "cell_type": "code",
      "execution_count": 109,
      "id": "07ecab40",
      "metadata": {
        "colab": {
          "base_uri": "https://localhost:8080/"
        },
        "id": "07ecab40",
        "outputId": "95dd34bd-7d58-46ea-fb9d-1a4712d7acc8"
      },
      "outputs": [
        {
          "output_type": "stream",
          "name": "stdout",
          "text": [
            "No Regularization: 0.8153748464584644\n",
            "Lasso:  0.8019408594870727\n",
            "Ridge:  0.8153748464584644\n"
          ]
        }
      ],
      "source": [
        "print(\"No Regularization:\", r2_score(y_test, y_pred_ridge))\n",
        "print(\"Lasso: \", r2_score(y_test, y_pred_lasso)) \n",
        "print(\"Ridge: \", r2_score(y_test, y_pred_ridge))"
      ]
    },
    {
      "cell_type": "code",
      "execution_count": 110,
      "id": "18bd5e92",
      "metadata": {
        "id": "18bd5e92"
      },
      "outputs": [],
      "source": [
        "import pickle"
      ]
    },
    {
      "cell_type": "code",
      "execution_count": 111,
      "id": "e7991787",
      "metadata": {
        "id": "e7991787"
      },
      "outputs": [],
      "source": [
        "pickle.dump(pipe, open('RidgeModel.pkl','wb'))"
      ]
    },
    {
      "cell_type": "code",
      "execution_count": 86,
      "id": "88b06333",
      "metadata": {
        "id": "88b06333"
      },
      "outputs": [],
      "source": [
        ""
      ]
    },
    {
      "cell_type": "code",
      "execution_count": 86,
      "id": "81a27bd1",
      "metadata": {
        "id": "81a27bd1"
      },
      "outputs": [],
      "source": [
        ""
      ]
    }
  ],
  "metadata": {
    "kernelspec": {
      "display_name": "Python 3",
      "language": "python",
      "name": "python3"
    },
    "language_info": {
      "codemirror_mode": {
        "name": "ipython",
        "version": 3
      },
      "file_extension": ".py",
      "mimetype": "text/x-python",
      "name": "python",
      "nbconvert_exporter": "python",
      "pygments_lexer": "ipython3",
      "version": "3.8.8"
    },
    "colab": {
      "name": "test.ipynb",
      "provenance": []
    }
  },
  "nbformat": 4,
  "nbformat_minor": 5
}